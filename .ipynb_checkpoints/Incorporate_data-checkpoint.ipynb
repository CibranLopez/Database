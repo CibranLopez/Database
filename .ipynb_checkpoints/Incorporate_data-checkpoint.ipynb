{
 "cells": [
  {
   "cell_type": "code",
   "execution_count": 1,
   "id": "e9b4f550",
   "metadata": {},
   "outputs": [],
   "source": [
    "import DB_library as DBL\n",
    "import numpy      as np\n",
    "import seaborn    as sns\n",
    "\n",
    "from os import system, chdir, listdir, path\n",
    "\n",
    "import sys\n",
    "sys.path.append('../')\n",
    "import MP.MP_library as MPL\n",
    "\n",
    "sns.set_theme()"
   ]
  },
  {
   "cell_type": "code",
   "execution_count": null,
   "id": "0aff9617",
   "metadata": {
    "scrolled": true
   },
   "outputs": [],
   "source": [
    "data_path = '../../../Desktop/Data'\n",
    "\n",
    "# Running over the database\n",
    "\n",
    "families = listdir(data_path)\n",
    "\n",
    "for family in families:\n",
    "    try:\n",
    "        compounds = listdir(f'{data_path}/{family}')\n",
    "    except NotADirectoryError:\n",
    "        continue\n",
    "\n",
    "    for compound in compounds:\n",
    "        try:\n",
    "            stoichiometricities = listdir(f'{data_path}/{family}/{compound}/AIMD')\n",
    "        except NotADirectoryError:\n",
    "            continue\n",
    "\n",
    "        for stoichiometricity in stoichiometricities:\n",
    "            aux = f'{data_path}/{family}/{compound}/AIMD/{stoichiometricity}'\n",
    "            try:\n",
    "                temperatures = listdir(f'{data_path}/{family}/{compound}/AIMD/{stoichiometricity}')\n",
    "            except NotADirectoryError:\n",
    "                continue\n",
    "\n",
    "            for temperature in temperatures:\n",
    "                current_path = f'{aux}/{temperature}'\n",
    "\n",
    "                if path.exists(f'{current_path}/POSCAR'):\n",
    "                    print('\\n\\n')\n",
    "                    print(compound, stoichiometricity, temperature)\n",
    "                    #DBL.get_mean_square_displacement(current_path)\n",
    "                    DBL.get_diffusion_coefficient(current_path, initial_point=None)"
   ]
  },
  {
   "cell_type": "code",
   "execution_count": null,
   "id": "9f3d0371",
   "metadata": {},
   "outputs": [],
   "source": [
    "path = '../../../Desktop/Validation Fvib/NaCu2O3/AIMD/non-stoichiometric/1000K'\n",
    "\n",
    "DBL.get_diffusion_coefficient(path, initial_point=0.1)"
   ]
  },
  {
   "cell_type": "code",
   "execution_count": 8,
   "id": "b88a711f",
   "metadata": {},
   "outputs": [
    {
     "name": "stdout",
     "output_type": "stream",
     "text": [
      "['Li'] ['Sb', 'N']\n"
     ]
    },
    {
     "data": {
      "text/plain": [
       "[(20.304560604632503,\n",
       "  49.74242134299463,\n",
       "  89.19916816250957,\n",
       "  0.08336514328947207,\n",
       "  -56.225721497687076,\n",
       "  0.14542488966019665),\n",
       " (20.19584033361668,\n",
       "  45.29069442775287,\n",
       "  88.68291019766176,\n",
       "  0.08386034372441453,\n",
       "  -63.966663227922815,\n",
       "  0.15264957342558458),\n",
       " (21.888571165301183,\n",
       "  64.5913672051966,\n",
       "  90.92078933091346,\n",
       "  0.08171374493932546,\n",
       "  -30.41116743054688,\n",
       "  0.12133195676146036)]"
      ]
     },
     "execution_count": 8,
     "metadata": {},
     "output_type": "execute_result"
    }
   ],
   "source": [
    "path = '../../UCL/m3gnet'\n",
    "\n",
    "#DBL.get_VACF_VDOS(path)\n",
    "\n",
    "DBL.get_vibrational_properties(path, 1000)"
   ]
  },
  {
   "cell_type": "code",
   "execution_count": 23,
   "id": "a21e5924",
   "metadata": {},
   "outputs": [
    {
     "name": "stdout",
     "output_type": "stream",
     "text": [
      "['Li'] ['N']\n",
      "['Li'] ['N']\n"
     ]
    },
    {
     "data": {
      "text/plain": [
       "(32.94715942451755, 153.24676694337646)"
      ]
     },
     "execution_count": 23,
     "metadata": {},
     "output_type": "execute_result"
    }
   ],
   "source": [
    "path = '../../../Desktop/Check Fv/AIMD'\n",
    "T = 360.0000000\n",
    "DBL.get_vibrational_properties(path, T)[0][4] * 1.6 * 6.022 * 3 * 0.01 * 8, DBL.get_vibrational_properties(path, T)[0][5] * 1.6 * 6.022 * 3 * 0.01 * 8*1000\n"
   ]
  },
  {
   "cell_type": "markdown",
   "id": "5f378001",
   "metadata": {},
   "source": [
    "path_to_POSCAR       = f'{element}/AIMD/{stoichiometricity}/{volume}/{temperature}/POSCAR'\n",
    "\n",
    "path_to_General_data = element\n",
    "\n",
    "MPL.generate_general_data(path_to_POSCAR, path_to_General_data)"
   ]
  }
 ],
 "metadata": {
  "kernelspec": {
   "display_name": "Python 3 (ipykernel)",
   "language": "python",
   "name": "python3"
  },
  "language_info": {
   "codemirror_mode": {
    "name": "ipython",
    "version": 3
   },
   "file_extension": ".py",
   "mimetype": "text/x-python",
   "name": "python",
   "nbconvert_exporter": "python",
   "pygments_lexer": "ipython3",
   "version": "3.11.1"
  }
 },
 "nbformat": 4,
 "nbformat_minor": 5
}
