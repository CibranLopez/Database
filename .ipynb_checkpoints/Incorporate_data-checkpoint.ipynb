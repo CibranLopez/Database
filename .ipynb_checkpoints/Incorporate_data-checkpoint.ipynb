{
 "cells": [
  {
   "cell_type": "code",
   "execution_count": 1,
   "id": "e9b4f550",
   "metadata": {},
   "outputs": [],
   "source": [
    "import matplotlib.pyplot as plt\n",
    "import DB_library        as DBL\n",
    "import numpy             as np\n",
    "import seaborn           as sns\n",
    "import os\n",
    "\n",
    "sns.set_theme()"
   ]
  },
  {
   "cell_type": "code",
   "execution_count": null,
   "id": "9831532e-8097-4f42-85b0-d58a1e3f9b87",
   "metadata": {},
   "outputs": [
    {
     "name": "stdout",
     "output_type": "stream",
     "text": [
      "/home/claudio/Desktop/HfO2/orthoIIIFE/300K\n"
     ]
    }
   ],
   "source": [
    "folders_with_poscar = []\n",
    "for dirpath, dirnames, filenames in os.walk('/home/claudio/Desktop/HfO2'):\n",
    "    if \"XDATCAR\" in filenames:\n",
    "        print(dirpath)\n",
    "        DBL.get_diffusion_coefficient(dirpath, initial_point=0.1)"
   ]
  }
 ],
 "metadata": {
  "kernelspec": {
   "display_name": "Python 3 (ipykernel)",
   "language": "python",
   "name": "python3"
  },
  "language_info": {
   "codemirror_mode": {
    "name": "ipython",
    "version": 3
   },
   "file_extension": ".py",
   "mimetype": "text/x-python",
   "name": "python",
   "nbconvert_exporter": "python",
   "pygments_lexer": "ipython3",
   "version": "3.12.3"
  }
 },
 "nbformat": 4,
 "nbformat_minor": 5
}
