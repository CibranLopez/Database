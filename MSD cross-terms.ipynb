{
 "cells": [
  {
   "cell_type": "code",
   "execution_count": 1,
   "id": "ea98dd34",
   "metadata": {},
   "outputs": [],
   "source": [
    "import matplotlib.pyplot as plt\n",
    "import seaborn as sns\n",
    "import DB_library as DBL\n",
    "import numpy as np\n",
    "import os\n",
    "\n",
    "sns.set_theme()"
   ]
  },
  {
   "cell_type": "code",
   "execution_count": 2,
   "id": "6fdf1e57",
   "metadata": {},
   "outputs": [],
   "source": [
    "path_to_XDATCAR = '../../ICMAB/Data/Li-based/Li10GeS2P12/AIMD/stoichiometric/650K'"
   ]
  },
  {
   "cell_type": "markdown",
   "id": "9c820e7f",
   "metadata": {},
   "source": [
    "The ionic conductivity ($\\sigma$) computes from [@tateyama]:\n",
    "\n",
    "\\begin{equation}\n",
    "    \\begin{gathered}\n",
    "        \\sigma = \\lim_{\\Delta t \\to \\infty} \\frac{e^2}{2 n_d V k_B T} \\left[ \\sum_i z_i^2 \\langle \\left[ \\mathbf{r}_i(t_0 + \\Delta t) - \\mathbf{r}_i(t_0) \\right]^2 \\rangle_{t_0} + \\right. \\\\\n",
    "        \\left. + \\sum_{i, j \\neq i} z_i z_j \\langle \\left[ \\mathbf{r}_i(t_0 + \\Delta t) - \\mathbf{r}_i(t_0) \\right] \\cdot \\left[ \\mathbf{r}_j(t_0 + \\Delta t) - \\mathbf{r}_j(t_0) \\right] \\rangle_{t_0} \\right]\n",
    "    \\end{gathered}\n",
    "\\end{equation}\n",
    "\n",
    "where $e$, $V$, $k_B$, and $T$ are the elementary charge, system volume, Boltzmann constant, and temperature of the MD simulation, respectively, $z_i$ charge and $\\mathbf{r}_i = x_{1, i} \\hat{i} + x_{2, i} \\hat{j} + x_{3, i} \\hat{k}$ cartesian position of particle $i$, and $n_d$ is the number of spatial dimensions of $\\mathbf{r}_i$, $\\Delta t$ is the time window and $t_0$ the temporal offset of $\\Delta t$. Thus, for those simulations in which one only species diffusses, the ionic diffusion coefficient reads: \n",
    "\n",
    "\\begin{equation}\n",
    "    \\begin{gathered}\n",
    "        D = \\lim_{\\Delta t \\to \\infty} \\frac{1}{6 \\Delta t} \\left[ \\sum_i \\langle \\left[ \\mathbf{r}_i(t_0 + \\Delta t) - \\mathbf{r}_i(t_0) \\right]^2 \\rangle_{t_0} + \\right. \\\\\n",
    "        \\left. + \\sum_{i, j \\neq i} \\langle \\left[ \\mathbf{r}_i(t_0 + \\Delta t) - \\mathbf{r}_i(t_0) \\right] \\cdot \\left[ \\mathbf{r}_j(t_0 + \\Delta t) - \\mathbf{r}_j(t_0) \\right] \\rangle_{t_0} \\right] = \\\\\n",
    "        = \\lim_{\\Delta t \\to \\infty} \\frac{1}{6 \\Delta t} \\left[ \\text{MSD}_{self} (\\Delta t) + \\text{MSD}_{distinct} (\\Delta t) \\right]\n",
    "    \\end{gathered}\n",
    "\\end{equation}\n",
    "\n",
    "As a result, all these displacements can be computed just once, and stored in a three-dimensional tensor, what allows simple vectorization and runs much faster in libraries such as Numpy compared to traditional loops. Then, for a simulation with $n_t$ time steps, and $n_p$ number of atoms for the diffusive species, we only need to compute:\n",
    "\n",
    "\\begin{equation}\n",
    "    \\Delta x (\\Delta t, i, d, t_0) = x_{d, i} (t_0 + \\Delta t) - x_{d, i} (t_0)\n",
    "\\end{equation}\n",
    "\n",
    "being $\\Delta x(\\Delta t, i, d, t_0)$ a four-dimensional tensor of shape $n_t \\times n_t \\times n_p \\times n_d$ storing all mean displacements of temporal length $\\Delta t$ for particle $p_i$ in catersian dimension $d$. This leads to:\n",
    "\n",
    "\\begin{equation}\n",
    "    \\text{MSD}_{self} (\\Delta t) = \\frac{1}{n_p} \\sum_{i = 1}^{n_p} \\langle \\sum_{d} \\Delta x (\\Delta t, i, d, t_0) \\cdot \\Delta x (\\Delta t, i, d, t_0) \\rangle_{t_0}\n",
    "\\end{equation}\n",
    "\n",
    "\\begin{equation}\n",
    "    \\text{MSD}_{distinct} (\\Delta t) = \\frac{2}{n_p (n_p-1)} \\sum_{i = 1}^{n_p} \\sum_{j = i+1}^{n_p} \\langle \\sum_{d} \\Delta x (\\Delta t, i, d, t_0) \\cdot \\Delta x (\\Delta t, j, d, t_0) \\rangle_{t_0}\n",
    "\\end{equation}\n",
    "\n",
    "Note that we keep $D_{self}$ and $D_{distinct}$ separate as this allows analising easily the contribution of crossed terms to $D$ without adding any code complication.\n",
    "\n",
    "This implementation scales quadratic with the lenght of the simulation and linearly with the number of diffusive particles in terms of memory resources."
   ]
  },
  {
   "cell_type": "markdown",
   "id": "9b9ef061",
   "metadata": {},
   "source": [
    "### Extract data from INCAR file at path_to_XDATCAR"
   ]
  },
  {
   "cell_type": "code",
   "execution_count": 3,
   "id": "f3f5ab55",
   "metadata": {},
   "outputs": [
    {
     "data": {
      "text/plain": [
       "(1.5, 10.0)"
      ]
     },
     "execution_count": 3,
     "metadata": {},
     "output_type": "execute_result"
    }
   ],
   "source": [
    "def read_INCAR(path_to_simulation):\n",
    "    \"\"\"Reads VASP INCAR files. It is always expected to find these parameters.\n",
    "    Read VASP INCAR Settings\n",
    "\n",
    "    Args:\n",
    "        path_to_simulation (str): Path to the simulation directory.\n",
    "\n",
    "    Returns:\n",
    "        tuple: A tuple containing delta_t and n_steps.\n",
    "    \"\"\"\n",
    "    \n",
    "    # Predefining the variable, so later we check if they were found\n",
    "    \n",
    "    delta_t = None\n",
    "    n_steps = None\n",
    "    \n",
    "    # Loading the INCAR file\n",
    "    \n",
    "    if not os.path.exists(f'{path_to_simulation}/INCAR'):\n",
    "        exit('INCAR file is not available.')\n",
    "    \n",
    "    with open(f'{path_to_simulation}/INCAR', 'r') as INCAR_file:\n",
    "        INCAR_lines = INCAR_file.readlines()\n",
    "    \n",
    "    # Looking for delta_t and n_steps\n",
    "    \n",
    "    for line in INCAR_lines:\n",
    "        split_line = line.split('=')\n",
    "        if len(split_line) > 1:  # Skipping empty lines\n",
    "            label = split_line[0].split()[0]\n",
    "            value = split_line[1].split()[0]\n",
    "            \n",
    "            if   label == 'POTIM':  delta_t = float(value)\n",
    "            elif label == 'NBLOCK': n_steps = float(value)\n",
    "    \n",
    "    # Checking if they were found\n",
    "    \n",
    "    if (delta_t is None) or (n_steps is None):\n",
    "        exit('POTIM or NBLOCK are not correctly defined in the INCAR file.')\n",
    "    return delta_t, n_steps\n",
    "\n",
    "INCAR_delta_t, INCAR_n_steps = read_INCAR(path_to_XDATCAR)\n",
    "INCAR_delta_t, INCAR_n_steps"
   ]
  },
  {
   "cell_type": "markdown",
   "id": "53544353",
   "metadata": {},
   "source": [
    "### Extract data from XDATCAR file at path_to_XDATCAR"
   ]
  },
  {
   "cell_type": "code",
   "execution_count": 4,
   "id": "82acf8e0",
   "metadata": {
    "scrolled": true
   },
   "outputs": [
    {
     "name": "stdout",
     "output_type": "stream",
     "text": [
      "Compound: Li10GeS2P12\n",
      "Composition: Li Ge P S\n",
      "Concentration: [80  8 16 96]\n",
      "Number of configurations: 9966\n"
     ]
    }
   ],
   "source": [
    "# Import the XDATCAR file\n",
    "XDATCAR_lines = [line for line in open(f'{path_to_XDATCAR}/XDATCAR') if line.strip()]\n",
    "\n",
    "# Extract initial XDATCAR data\n",
    "compound = XDATCAR_lines[0][:-1]\n",
    "scale    = float(XDATCAR_lines[1])\n",
    "\n",
    "lattice_vectors = np.array([line.split() for line in XDATCAR_lines[2:5]], dtype=float)\n",
    "lattice_vectors *= scale  # Use scaling\n",
    "\n",
    "composition   = XDATCAR_lines[5].split()\n",
    "concentration = np.array(XDATCAR_lines[6].split(), dtype=int)\n",
    "\n",
    "n_atoms = np.sum(concentration)  # Number of particles within the simulation box\n",
    "\n",
    "print_name = ' '.join(composition)\n",
    "print(f'Compound: {compound}')\n",
    "print(f'Composition: {print_name}')\n",
    "print(f'Concentration: {concentration}')\n",
    "\n",
    "# Shape the configurations data into the positions attribute\n",
    "direct_coordinates = np.array([line.split() for line in XDATCAR_lines[8:] if not line.split()[0][0].isalpha()], dtype=float)\n",
    "\n",
    "direct_coordinates = direct_coordinates.ravel().reshape((-1, n_atoms, 3))  # (n_conf, n_atoms, 3) tensor\n",
    "n_conf = direct_coordinates.shape[0]  # Number of configurations or simulation steps\n",
    "\n",
    "print(f'Number of configurations: {n_conf}')"
   ]
  },
  {
   "cell_type": "markdown",
   "id": "6393af06",
   "metadata": {},
   "source": [
    "### Identify diffusive particles"
   ]
  },
  {
   "cell_type": "code",
   "execution_count": 5,
   "id": "bd50495c",
   "metadata": {},
   "outputs": [
    {
     "data": {
      "text/plain": [
       "array([ 0,  1,  2,  3,  4,  5,  6,  7,  8,  9, 10, 11, 12, 13, 14, 15, 16,\n",
       "       17, 18, 19, 20, 21, 22, 23, 24, 25, 26, 27, 28, 29, 30, 31, 32, 33,\n",
       "       34, 35, 36, 37, 38, 39, 40, 41, 42, 43, 44, 45, 46, 47, 48, 49, 50,\n",
       "       51, 52, 53, 54, 55, 56, 57, 58, 59, 60, 61, 62, 63, 64, 65, 66, 67,\n",
       "       68, 69, 70, 71, 72, 73, 74, 75, 76, 77, 78, 79])"
      ]
     },
     "execution_count": 5,
     "metadata": {},
     "output_type": "execute_result"
    }
   ],
   "source": [
    "diffusive_particle = 'Li'\n",
    "\n",
    "for i in range(n_atoms):\n",
    "    if composition[i] == diffusive_particle:\n",
    "        diffusive_idx = i\n",
    "        break\n",
    "\n",
    "concentration_cumsum = np.insert(np.cumsum(concentration), 0, 0)\n",
    "\n",
    "# Exact indexes of the diffive particles\n",
    "diffusive_indexes = np.arange(concentration_cumsum[diffusive_idx],\n",
    "                              concentration_cumsum[diffusive_idx+1],\n",
    "                             dtype=int)\n",
    "\n",
    "# Index where the diffive particles start\n",
    "diffusive_indexes_start = diffusive_indexes[0]\n",
    "\n",
    "# Number of diffive particles\n",
    "n_diff_atoms = len(diffusive_indexes)\n",
    "\n",
    "diffusive_indexes"
   ]
  },
  {
   "cell_type": "markdown",
   "id": "95dfd1e6",
   "metadata": {},
   "source": [
    "### Revert periodic boundary conditions and pass to cartesian coordinates"
   ]
  },
  {
   "cell_type": "code",
   "execution_count": 6,
   "id": "96802dd5",
   "metadata": {},
   "outputs": [],
   "source": [
    "# Get the variation in positions\n",
    "dpos = np.diff(direct_coordinates, axis=0)\n",
    "\n",
    "# Revert periodic boundary condition\n",
    "dpos[dpos > 0.5]  -= 1.0\n",
    "dpos[dpos < -0.5] += 1.0\n",
    "\n",
    "# Pass to cartesian\n",
    "for i in range(n_conf-1):\n",
    "    dpos[i] = np.dot(dpos[i], lattice_vectors)\n",
    "\n",
    "# Copy direct to cartesian and pass first frame (configuration)\n",
    "cartesian_coordinates    = direct_coordinates.copy()\n",
    "cartesian_coordinates[0] = np.dot(cartesian_coordinates[0], lattice_vectors)\n",
    "\n",
    "# Expand dimensions and sum every dpos\n",
    "expanded_dimensions   = np.expand_dims(cartesian_coordinates[0], 0)\n",
    "cartesian_coordinates = np.concatenate([expanded_dimensions, dpos], axis=0)\n",
    "cartesian_coordinates = np.cumsum(cartesian_coordinates, axis=0)"
   ]
  },
  {
   "cell_type": "code",
   "execution_count": 7,
   "id": "676875ea",
   "metadata": {},
   "outputs": [],
   "source": [
    "# Consider only diffusive atoms\n",
    "diff_cartesian_coordinates = cartesian_coordinates[:, diffusive_indexes]"
   ]
  },
  {
   "cell_type": "markdown",
   "id": "1d73479d",
   "metadata": {},
   "source": [
    "### Generate tensor"
   ]
  },
  {
   "cell_type": "code",
   "execution_count": 8,
   "id": "a92b914e",
   "metadata": {},
   "outputs": [],
   "source": [
    "n_delta_t = 100"
   ]
  },
  {
   "cell_type": "code",
   "execution_count": 9,
   "id": "38f7e437",
   "metadata": {},
   "outputs": [],
   "source": [
    "differences_tensor_mean = np.ones((n_delta_t, n_conf, n_diff_atoms, 3)) * np.NaN\n",
    "\n",
    "# We vectorize in terms of n_atoms (only possibility here)\n",
    "for delta_t in np.arange(1, n_delta_t):\n",
    "    # Number of windows which are used for screening distances\n",
    "    n_windows = n_conf - delta_t\n",
    "    \n",
    "    # Generate mean over windows\n",
    "    for t_0 in range(n_windows):\n",
    "        # Distance between two configurations of a same particle\n",
    "        # td (atom_i, dim_i) = cc (t_0 + delta_t, atom_i, dim_k) - cc (t_0, atom_i, dim_k)\n",
    "        temporal_dist = diff_cartesian_coordinates[t_0 + delta_t] - diff_cartesian_coordinates[t_0]\n",
    "\n",
    "        # Add to temporal variable\n",
    "        differences_tensor_mean[delta_t, t_0] = temporal_dist"
   ]
  },
  {
   "cell_type": "markdown",
   "id": "c427c188",
   "metadata": {},
   "source": [
    "### Generate MSD"
   ]
  },
  {
   "cell_type": "markdown",
   "id": "f752fd18",
   "metadata": {},
   "source": [
    "#### Self"
   ]
  },
  {
   "cell_type": "code",
   "execution_count": 10,
   "id": "54e166dc",
   "metadata": {},
   "outputs": [
    {
     "name": "stderr",
     "output_type": "stream",
     "text": [
      "/var/folders/m5/whlk89kx5x17v9g6d328s3f40000gn/T/ipykernel_39244/667927245.py:6: RuntimeWarning: Mean of empty slice\n",
      "  particles_avg = np.nanmean(self_scalar_product, axis=-1)  # Raises warning due to NaNs in some positions\n",
      "/var/folders/m5/whlk89kx5x17v9g6d328s3f40000gn/T/ipykernel_39244/667927245.py:9: RuntimeWarning: Mean of empty slice\n",
      "  MSD_self = np.nanmean(particles_avg, axis=-1)\n"
     ]
    }
   ],
   "source": [
    "# Scalar product between self particles\n",
    "self_scalar_product = differences_tensor_mean * differences_tensor_mean\n",
    "self_scalar_product = np.sum(self_scalar_product, axis=-1)\n",
    "\n",
    "# Apply average for particles\n",
    "particles_avg = np.nanmean(self_scalar_product, axis=-1)  # Raises warning due to NaNs in some positions\n",
    "\n",
    "# Apply average for windows\n",
    "MSD_self = np.nanmean(particles_avg, axis=-1)"
   ]
  },
  {
   "cell_type": "markdown",
   "id": "9a35be68",
   "metadata": {},
   "source": [
    "#### Distinct"
   ]
  },
  {
   "cell_type": "code",
   "execution_count": 13,
   "id": "ede0b32e",
   "metadata": {},
   "outputs": [
    {
     "name": "stderr",
     "output_type": "stream",
     "text": [
      "/var/folders/m5/whlk89kx5x17v9g6d328s3f40000gn/T/ipykernel_39244/32316478.py:23: RuntimeWarning: Mean of empty slice\n",
      "  MSD_distinct = np.nanmean(particles_avg, axis=-1)\n"
     ]
    }
   ],
   "source": [
    "n_distinct = (n_diff_atoms * (n_diff_atoms - 1)) / 2\n",
    "\n",
    "particles_sum = np.zeros((n_delta_t, n_conf))\n",
    "for idx_i in np.arange(n_diff_atoms):\n",
    "    # All remaining indexes\n",
    "    idx_j = np.arange(idx_i+1, n_diff_atoms)\n",
    "    \n",
    "    # Extract data\n",
    "    diff_i = differences_tensor_mean[:, :, np.newaxis, idx_i]  # np.newaxis to allow dot product\n",
    "    diff_j = differences_tensor_mean[:, :, idx_j]\n",
    "    \n",
    "    # Scalar product between distinct particles\n",
    "    distinct_scalar_product = diff_i * diff_j\n",
    "    distinct_scalar_product = np.sum(distinct_scalar_product, axis=-1)\n",
    "    \n",
    "    # Apply sum for particles\n",
    "    particles_sum += np.sum(distinct_scalar_product, axis=-1)\n",
    "\n",
    "# Apply average for particles\n",
    "particles_avg = particles_sum / n_distinct\n",
    "\n",
    "# Apply average for windows\n",
    "MSD_distinct = np.nanmean(particles_avg, axis=-1)"
   ]
  },
  {
   "cell_type": "markdown",
   "id": "f9df2df6",
   "metadata": {},
   "source": [
    "#### Full"
   ]
  },
  {
   "cell_type": "code",
   "execution_count": 18,
   "id": "7019205f",
   "metadata": {},
   "outputs": [],
   "source": [
    "# Add both contributions\n",
    "MSD_full = MSD_self + MSD_distinct\n",
    "\n",
    "# Define the array of time simulation in pico-seconds\n",
    "delta_t_array = np.arange(n_delta_t) * (INCAR_n_steps * INCAR_delta_t * 1e-3)"
   ]
  },
  {
   "cell_type": "markdown",
   "id": "a0d6ab18",
   "metadata": {},
   "source": [
    "### Compute diffusion coefficient"
   ]
  },
  {
   "cell_type": "code",
   "execution_count": 19,
   "id": "a691b183",
   "metadata": {},
   "outputs": [
    {
     "name": "stderr",
     "output_type": "stream",
     "text": [
      "/Library/Frameworks/Python.framework/Versions/3.11/lib/python3.11/site-packages/scipy/odr/_odrpack.py:870: OdrWarning: Empty data detected for ODR instance. Do not expect any fitting to occur\n",
      "  warn((\"Empty data detected for ODR instance. \"\n"
     ]
    },
    {
     "data": {
      "text/plain": [
       "(1e-05, 1e-05)"
      ]
     },
     "execution_count": 19,
     "metadata": {},
     "output_type": "execute_result"
    }
   ],
   "source": [
    "initial_ratio = 0.1\n",
    "ending_ratio  = 0.7\n",
    "x_fit = delta_t_array\n",
    "\n",
    "initial_point = int(initial_ratio * n_conf)\n",
    "ending_point  = int(ending_ratio  * n_conf)\n",
    "\n",
    "y_fit    = MSD_self\n",
    "yerr_fit = None  #yerr_fit = MSD_self_std\n",
    "_beta_ = DBL.weighted_regression(x_fit[initial_point:ending_point],\n",
    "                                 y_fit[initial_point:ending_point],\n",
    "                                 DBL.linear_function,\n",
    "                                 yerr=yerr_fit).beta\n",
    "coef_D_self = _beta_[1]\n",
    "\n",
    "y_fit    = MSD_full\n",
    "yerr_fit = None  #yerr_fit = MSD_full_std\n",
    "_beta_ = DBL.weighted_regression(x_fit[initial_point:ending_point],\n",
    "                                 y_fit[initial_point:ending_point],\n",
    "                                 DBL.linear_function,\n",
    "                                 yerr=yerr_fit).beta\n",
    "coef_D_full = _beta_[1] \n",
    "\n",
    "coef_D_self, coef_D_full"
   ]
  },
  {
   "cell_type": "markdown",
   "id": "87473b8d",
   "metadata": {},
   "source": [
    "### Plot MSD"
   ]
  },
  {
   "cell_type": "code",
   "execution_count": 20,
   "id": "3a71b367",
   "metadata": {},
   "outputs": [
    {
     "data": {
      "image/png": "[encoded data removed]",
      "text/plain": [
       "<Figure size 640x480 with 1 Axes>"
      ]
     },
     "metadata": {},
     "output_type": "display_data"
    }
   ],
   "source": [
    "plt.plot(delta_t_array,\n",
    "         MSD_self,\n",
    "         label='Self')\n",
    "plt.plot(delta_t_array,\n",
    "         MSD_full,\n",
    "         label='Full')\n",
    "\n",
    "'''\n",
    "plt.plot(delta_t_array[initial_point:ending_point],\n",
    "         MSD_full[initial_point:ending_point],\n",
    "         label='Fit')\n",
    "'''\n",
    "\n",
    "plt.xlabel(r'$\\Delta t$ (ps)')\n",
    "plt.ylabel(r'$MSD$ ($\\mathregular{Å^2}$)')\n",
    "plt.legend(loc='best')\n",
    "plt.show()"
   ]
  }
 ],
 "metadata": {
  "kernelspec": {
   "display_name": "Python 3 (ipykernel)",
   "language": "python",
   "name": "python3"
  },
  "language_info": {
   "codemirror_mode": {
    "name": "ipython",
    "version": 3
   },
   "file_extension": ".py",
   "mimetype": "text/x-python",
   "name": "python",
   "nbconvert_exporter": "python",
   "pygments_lexer": "ipython3",
   "version": "3.11.1"
  }
 },
 "nbformat": 4,
 "nbformat_minor": 5
}
