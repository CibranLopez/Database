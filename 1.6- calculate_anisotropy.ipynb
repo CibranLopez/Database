{
 "cells": [
  {
   "cell_type": "code",
   "execution_count": 1,
   "id": "9caed2b7",
   "metadata": {},
   "outputs": [],
   "source": [
    "%run auxiliar_functions.py"
   ]
  },
  {
   "cell_type": "code",
   "execution_count": 2,
   "id": "dfb2e078",
   "metadata": {},
   "outputs": [],
   "source": [
    "def std(array):\n",
    "    mean = np.mean(array)\n",
    "    std = 0\n",
    "    \n",
    "    for i in range(len(array)):\n",
    "        std += np.power(array[i] - mean, 2)\n",
    "    \n",
    "    return np.sqrt(std)"
   ]
  },
  {
   "cell_type": "code",
   "execution_count": 3,
   "id": "05478dca",
   "metadata": {},
   "outputs": [],
   "source": [
    "while True:\n",
    "    try: # This is not a directory.\n",
    "        folder_content = listdir(path)\n",
    "    except NotADirectoryError:\n",
    "        path, depth, folder_visited = folder_backward(path, depth, folder_visited)\n",
    "        continue\n",
    "    \n",
    "    try: # Fully explored directory.\n",
    "        new_folder = folder_content[folder_visited[depth]]\n",
    "        folder_visited[depth] += 1\n",
    "    except IndexError:\n",
    "        if depth == 0:\n",
    "            break\n",
    "        \n",
    "        path, depth, folder_visited = folder_backward(path, depth, folder_visited)\n",
    "        continue\n",
    "    \n",
    "    path, depth, folder_visited = folder_forward(path, new_folder, depth, folder_visited)\n",
    "    \n",
    "    if new_folder == 'General_data.dat':\n",
    "        with open(path, 'r') as General_data_file:\n",
    "            General_data_lines = General_data_file.readlines()\n",
    "        \n",
    "        lattice_constants = np.float_(General_data_lines[lattice_constants_line].split(': ')[1].split())\n",
    "        lattice_angles = np.float_(General_data_lines[lattice_angles_line].split(': ')[1].split())\n",
    "        \n",
    "        write(path, anisotropy_a_b_c_line, 'Anisotropy (a-b-c): ', std(lattice_constants), name='')\n",
    "        write(path, anisotropy_alpha_beta_gamma_line, 'Anisotropy (alpha-beta-gamma): ', std(lattice_angles), name='')\n",
    "        \n",
    "        path, depth, folder_visited = folder_backward(path, depth, folder_visited)"
   ]
  }
 ],
 "metadata": {
  "kernelspec": {
   "display_name": "Python 3 (ipykernel)",
   "language": "python",
   "name": "python3"
  },
  "language_info": {
   "codemirror_mode": {
    "name": "ipython",
    "version": 3
   },
   "file_extension": ".py",
   "mimetype": "text/x-python",
   "name": "python",
   "nbconvert_exporter": "python",
   "pygments_lexer": "ipython3",
   "version": "3.10.1"
  }
 },
 "nbformat": 4,
 "nbformat_minor": 5
}
