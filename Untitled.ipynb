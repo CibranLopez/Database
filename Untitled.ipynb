{
 "cells": [
  {
   "cell_type": "code",
   "execution_count": 1,
   "id": "ea98dd34",
   "metadata": {},
   "outputs": [],
   "source": [
    "import matplotlib.pyplot as plt\n",
    "import numpy as np\n",
    "import os"
   ]
  },
  {
   "cell_type": "code",
   "execution_count": 2,
   "id": "6fdf1e57",
   "metadata": {},
   "outputs": [],
   "source": [
    "path_to_XDATCAR = '../../../Desktop'"
   ]
  },
  {
   "cell_type": "code",
   "execution_count": 74,
   "id": "e8943a9a",
   "metadata": {},
   "outputs": [],
   "source": [
    "atomic_numbers = np.load('atomic_numbers.npy', allow_pickle='TRUE').item()"
   ]
  },
  {
   "cell_type": "markdown",
   "id": "9b9ef061",
   "metadata": {},
   "source": [
    "### Extract data from INCAR file at path_to_XDATCAR"
   ]
  },
  {
   "cell_type": "code",
   "execution_count": 19,
   "id": "f3f5ab55",
   "metadata": {},
   "outputs": [
    {
     "data": {
      "text/plain": [
       "(1.5, 10.0)"
      ]
     },
     "execution_count": 19,
     "metadata": {},
     "output_type": "execute_result"
    }
   ],
   "source": [
    "def read_INCAR(path_to_simulation):\n",
    "    \"\"\"Reads VASP INCAR files. It is always expected to find these parameters.\n",
    "    Read VASP INCAR Settings\n",
    "\n",
    "    Args:\n",
    "        path_to_simulation (str): Path to the simulation directory.\n",
    "\n",
    "    Returns:\n",
    "        tuple: A tuple containing delta_t and n_steps.\n",
    "    \"\"\"\n",
    "    \n",
    "    # Predefining the variable, so later we check if they were found\n",
    "    \n",
    "    delta_t = None\n",
    "    n_steps = None\n",
    "    \n",
    "    # Loading the INCAR file\n",
    "    \n",
    "    if not os.path.exists(f'{path_to_simulation}/INCAR'):\n",
    "        exit('INCAR file is not available.')\n",
    "    \n",
    "    with open(f'{path_to_simulation}/INCAR', 'r') as INCAR_file:\n",
    "        INCAR_lines = INCAR_file.readlines()\n",
    "    \n",
    "    # Looking for delta_t and n_steps\n",
    "    \n",
    "    for line in INCAR_lines:\n",
    "        split_line = line.split('=')\n",
    "        if len(split_line) > 1:  # Skipping empty lines\n",
    "            label = split_line[0].split()[0]\n",
    "            value = split_line[1].split()[0]\n",
    "            \n",
    "            if   label == 'POTIM':  delta_t = float(value)\n",
    "            elif label == 'NBLOCK': n_steps = float(value)\n",
    "    \n",
    "    # Checking if they were found\n",
    "    \n",
    "    if (delta_t is None) or (n_steps is None):\n",
    "        exit('POTIM or NBLOCK are not correctly defined in the INCAR file.')\n",
    "    return delta_t, n_steps\n",
    "\n",
    "INCAR_delta_t, INCAR_n_steps = read_INCAR(path_to_XDATCAR)\n",
    "INCAR_delta_t, INCAR_n_steps"
   ]
  },
  {
   "cell_type": "markdown",
   "id": "53544353",
   "metadata": {},
   "source": [
    "### Extract data from XDATCAR file at path_to_XDATCAR"
   ]
  },
  {
   "cell_type": "code",
   "execution_count": 5,
   "id": "82acf8e0",
   "metadata": {
    "scrolled": true
   },
   "outputs": [
    {
     "name": "stdout",
     "output_type": "stream",
     "text": [
      "Compound: Li3La4Ti8O24\n",
      "Composition: Ti O La Li\n",
      "Concentration: [ 64 192  32  24]\n",
      "Number of configurations: 7044\n"
     ]
    }
   ],
   "source": [
    "# Import the XDATCAR file\n",
    "XDATCAR_lines = [line for line in open(f'{path_to_XDATCAR}/XDATCAR') if line.strip()]\n",
    "\n",
    "# Extract initial XDATCAR data\n",
    "compound = XDATCAR_lines[0][:-1]\n",
    "scale    = float(XDATCAR_lines[1])\n",
    "\n",
    "lattice_vectors = np.array([line.split() for line in XDATCAR_lines[2:5]], dtype=float)\n",
    "lattice_vectors *= scale  # Use scaling\n",
    "\n",
    "composition   = XDATCAR_lines[5].split()\n",
    "concentration = np.array(XDATCAR_lines[6].split(), dtype=int)\n",
    "\n",
    "n_atoms = np.sum(concentration)  # Number of particles within the simulation box\n",
    "\n",
    "print_name = ' '.join(composition)\n",
    "print(f'Compound: {compound}')\n",
    "print(f'Composition: {print_name}')\n",
    "print(f'Concentration: {concentration}')\n",
    "\n",
    "# Shape the configurations data into the positions attribute\n",
    "direct_coordinates = np.array([line.split() for line in XDATCAR_lines[8:] if not line.split()[0][0].isalpha()], dtype=float)\n",
    "\n",
    "direct_coordinates = direct_coordinates.ravel().reshape((-1, n_atoms, 3))  # (n_conf, n_atoms, 3) tensor\n",
    "n_conf = direct_coordinates.shape[0]  # Number of configurations or simulation steps\n",
    "\n",
    "print(f'Number of configurations: {n_conf}')"
   ]
  },
  {
   "cell_type": "code",
   "execution_count": 58,
   "id": "bd50495c",
   "metadata": {},
   "outputs": [
    {
     "data": {
      "text/plain": [
       "array([288, 289, 290, 291, 292, 293, 294, 295, 296, 297, 298, 299, 300,\n",
       "       301, 302, 303, 304, 305, 306, 307, 308, 309, 310, 311])"
      ]
     },
     "execution_count": 58,
     "metadata": {},
     "output_type": "execute_result"
    }
   ],
   "source": [
    "diffusive_particle = 'Li'\n",
    "\n",
    "for i in range(n_atoms):\n",
    "    if composition[i] == diffusive_particle:\n",
    "        diffusive_idx = i\n",
    "        break\n",
    "\n",
    "concentration_cumsum = np.insert(np.cumsum(concentration), 0, 0)\n",
    "\n",
    "diffusive_indexes = np.arange(concentration_cumsum[diffusive_idx],\n",
    "                              concentration_cumsum[diffusive_idx+1],\n",
    "                             dtype=int)\n",
    "diffusive_indexes"
   ]
  },
  {
   "cell_type": "markdown",
   "id": "95dfd1e6",
   "metadata": {},
   "source": [
    "### Revert periodic boundary conditions and pass to cartesian coordinates"
   ]
  },
  {
   "cell_type": "code",
   "execution_count": 6,
   "id": "96802dd5",
   "metadata": {},
   "outputs": [],
   "source": [
    "# Get the variation in positions\n",
    "dpos = np.diff(direct_coordinates, axis=0)\n",
    "\n",
    "# Revert periodic boundary condition\n",
    "dpos[dpos > 0.5]  -= 1.0\n",
    "dpos[dpos < -0.5] += 1.0\n",
    "\n",
    "# Pass to cartesian\n",
    "for i in range(n_conf-1):\n",
    "    dpos[i] = np.dot(dpos[i], lattice_vectors)\n",
    "\n",
    "# Copy direct to cartesian and pass first frame (configuration)\n",
    "cartesian_coordinates    = direct_coordinates.copy()\n",
    "cartesian_coordinates[0] = np.dot(cartesian_coordinates[0], lattice_vectors)\n",
    "\n",
    "# Expand dimensions and sum every dpos\n",
    "expanded_dimensions = np.expand_dims(cartesian_coordinates[0], 0)\n",
    "cartesian_coordinates = np.concatenate([expanded_dimensions, dpos], axis=0)\n",
    "cartesian_coordinates = np.cumsum(cartesian_coordinates, axis=0)"
   ]
  },
  {
   "cell_type": "markdown",
   "id": "1d73479d",
   "metadata": {},
   "source": [
    "### Generate tensor"
   ]
  },
  {
   "cell_type": "code",
   "execution_count": 7,
   "id": "38f7e437",
   "metadata": {},
   "outputs": [],
   "source": [
    "differences_tensor_mean = np.zeros((n_conf, n_atoms))\n",
    "differences_tensor_std  = np.zeros((n_conf, n_atoms))\n",
    "\n",
    "# We vectorize in terms of n_atoms (only possibility here)\n",
    "for delta_t in np.arange(1, n_conf):  # delta_t = 0 gives 0 by definition\n",
    "    # Number of windows which are used for screening distances\n",
    "    n_windows = n_conf - delta_t\n",
    "    \n",
    "    # Extract mean and standard deviation\n",
    "    delta_t_distance = np.zeros((n_atoms, n_windows))\n",
    "    for t_0 in range(n_windows):\n",
    "        # Distance between two configurations of a same particle\n",
    "        temporal_dist = cartesian_coordinates[t_0 + delta_t] - cartesian_coordinates[t_0]\n",
    "        \n",
    "        # Add Euclidean distance\n",
    "        delta_t_distance[:, t_0] = np.linalg.norm(temporal_dist, axis=1)\n",
    "    \n",
    "    # Generate mean\n",
    "    differences_tensor_mean[delta_t] = np.mean(delta_t_distance, axis=1)\n",
    "    \n",
    "    # Generate std\n",
    "    differences_tensor_std[delta_t] = np.std(delta_t_distance, axis=1)"
   ]
  },
  {
   "cell_type": "code",
   "execution_count": 63,
   "id": "dc6439c4",
   "metadata": {},
   "outputs": [],
   "source": [
    "MSD   = np.mean(np.power(differences_tensor_mean[:, diffusive_indexes], 2), axis=1)\n",
    "\n",
    "delta_t_array = np.arange(n_conf) * (INCAR_n_steps * INCAR_delta_t * 1e-3)"
   ]
  },
  {
   "cell_type": "code",
   "execution_count": 64,
   "id": "8b2d6001",
   "metadata": {},
   "outputs": [
    {
     "data": {
      "text/plain": [
       "[<matplotlib.lines.Line2D at 0x11ff8f850>]"
      ]
     },
     "execution_count": 64,
     "metadata": {},
     "output_type": "execute_result"
    },
    {
     "data": {
      "image/png": "[encoded data removed]",
      "text/plain": [
       "<Figure size 640x480 with 1 Axes>"
      ]
     },
     "metadata": {},
     "output_type": "display_data"
    }
   ],
   "source": [
    "plt.plot(delta_t_array,\n",
    "         MSD)"
   ]
  }
 ],
 "metadata": {
  "kernelspec": {
   "display_name": "Python 3 (ipykernel)",
   "language": "python",
   "name": "python3"
  },
  "language_info": {
   "codemirror_mode": {
    "name": "ipython",
    "version": 3
   },
   "file_extension": ".py",
   "mimetype": "text/x-python",
   "name": "python",
   "nbconvert_exporter": "python",
   "pygments_lexer": "ipython3",
   "version": "3.11.1"
  }
 },
 "nbformat": 4,
 "nbformat_minor": 5
}
