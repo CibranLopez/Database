{
 "cells": [
  {
   "cell_type": "code",
   "execution_count": 1,
   "id": "e9b4f550",
   "metadata": {},
   "outputs": [],
   "source": [
    "import DB_library as DBL\n",
    "import numpy      as np\n",
    "import seaborn    as sns\n",
    "\n",
    "from os import system, chdir, listdir, path\n",
    "\n",
    "import sys\n",
    "sys.path.append('../')\n",
    "import MP.MP_library as MPL\n",
    "\n",
    "sns.set_theme()"
   ]
  },
  {
   "cell_type": "code",
   "execution_count": null,
   "id": "0aff9617",
   "metadata": {
    "scrolled": true
   },
   "outputs": [],
   "source": [
    "data_path = '../../../Desktop/Data'\n",
    "\n",
    "# Running over the database\n",
    "\n",
    "families = listdir(data_path)\n",
    "\n",
    "for family in families:\n",
    "    try:\n",
    "        compounds = listdir(f'{data_path}/{family}')\n",
    "    except NotADirectoryError:\n",
    "        continue\n",
    "\n",
    "    for compound in compounds:\n",
    "        try:\n",
    "            stoichiometricities = listdir(f'{data_path}/{family}/{compound}/AIMD')\n",
    "        except NotADirectoryError:\n",
    "            continue\n",
    "\n",
    "        for stoichiometricity in stoichiometricities:\n",
    "            aux = f'{data_path}/{family}/{compound}/AIMD/{stoichiometricity}'\n",
    "            try:\n",
    "                temperatures = listdir(f'{data_path}/{family}/{compound}/AIMD/{stoichiometricity}')\n",
    "            except NotADirectoryError:\n",
    "                continue\n",
    "\n",
    "            for temperature in temperatures:\n",
    "                current_path = f'{aux}/{temperature}'\n",
    "\n",
    "                if path.exists(f'{current_path}/POSCAR'):\n",
    "                    print('\\n\\n')\n",
    "                    print(compound, stoichiometricity, temperature)\n",
    "                    #DBL.get_mean_square_displacement(current_path)\n",
    "                    DBL.get_diffusion_coefficient(current_path, initial_point=None)"
   ]
  },
  {
   "cell_type": "code",
   "execution_count": 3,
   "id": "9f3d0371",
   "metadata": {
    "scrolled": true
   },
   "outputs": [
    {
     "name": "stderr",
     "output_type": "stream",
     "text": [
      "sh: 1: ./mean_square_displacement.exe: Exec format error\n"
     ]
    },
    {
     "ename": "OSError",
     "evalue": "../../../Desktop/XDATCAR-AH/Ag3SI/600K/msd_0.dat not found.",
     "output_type": "error",
     "traceback": [
      "\u001b[0;31m---------------------------------------------------------------------------\u001b[0m",
      "\u001b[0;31mOSError\u001b[0m                                   Traceback (most recent call last)",
      "Cell \u001b[0;32mIn [3], line 3\u001b[0m\n\u001b[1;32m      1\u001b[0m path \u001b[38;5;241m=\u001b[39m \u001b[38;5;124m'\u001b[39m\u001b[38;5;124m../../../Desktop/XDATCAR-AH/Ag3SI/600K\u001b[39m\u001b[38;5;124m'\u001b[39m\n\u001b[0;32m----> 3\u001b[0m \u001b[43mDBL\u001b[49m\u001b[38;5;241;43m.\u001b[39;49m\u001b[43mget_diffusion_coefficient\u001b[49m\u001b[43m(\u001b[49m\u001b[43mpath\u001b[49m\u001b[43m,\u001b[49m\u001b[43m \u001b[49m\u001b[43minitial_point\u001b[49m\u001b[38;5;241;43m=\u001b[39;49m\u001b[38;5;241;43m0.1\u001b[39;49m\u001b[43m)\u001b[49m\n",
      "File \u001b[0;32m~/Work/UPC/Database/DB_library.py:395\u001b[0m, in \u001b[0;36mget_diffusion_coefficient\u001b[0;34m(path_to_msd, path_to_DBL, initial_point, DiffTypeName)\u001b[0m\n\u001b[1;32m    392\u001b[0m row \u001b[38;5;241m=\u001b[39m \u001b[38;5;28mint\u001b[39m(i \u001b[38;5;241m/\u001b[39m \u001b[38;5;241m2\u001b[39m)\n\u001b[1;32m    393\u001b[0m column \u001b[38;5;241m=\u001b[39m \u001b[38;5;28mint\u001b[39m(i \u001b[38;5;241m%\u001b[39m \u001b[38;5;241m2\u001b[39m)\n\u001b[0;32m--> 395\u001b[0m data \u001b[38;5;241m=\u001b[39m \u001b[43mnp\u001b[49m\u001b[38;5;241;43m.\u001b[39;49m\u001b[43mloadtxt\u001b[49m\u001b[43m(\u001b[49m\u001b[38;5;124;43mf\u001b[39;49m\u001b[38;5;124;43m'\u001b[39;49m\u001b[38;5;132;43;01m{\u001b[39;49;00m\u001b[43mpath_to_msd\u001b[49m\u001b[38;5;132;43;01m}\u001b[39;49;00m\u001b[38;5;124;43m/msd_\u001b[39;49m\u001b[38;5;132;43;01m{\u001b[39;49;00m\u001b[43mi\u001b[49m\u001b[38;5;132;43;01m}\u001b[39;49;00m\u001b[38;5;124;43m.dat\u001b[39;49m\u001b[38;5;124;43m'\u001b[39;49m\u001b[43m)\u001b[49m\n\u001b[1;32m    397\u001b[0m x    \u001b[38;5;241m=\u001b[39m data[:, \u001b[38;5;241m0\u001b[39m] \u001b[38;5;241m*\u001b[39m temporal_factor\n\u001b[1;32m    398\u001b[0m y    \u001b[38;5;241m=\u001b[39m data[:, \u001b[38;5;241m1\u001b[39m]\n",
      "File \u001b[0;32m~/.local/lib/python3.10/site-packages/numpy/lib/npyio.py:1067\u001b[0m, in \u001b[0;36mloadtxt\u001b[0;34m(fname, dtype, comments, delimiter, converters, skiprows, usecols, unpack, ndmin, encoding, max_rows, like)\u001b[0m\n\u001b[1;32m   1065\u001b[0m     fname \u001b[38;5;241m=\u001b[39m os_fspath(fname)\n\u001b[1;32m   1066\u001b[0m \u001b[38;5;28;01mif\u001b[39;00m _is_string_like(fname):\n\u001b[0;32m-> 1067\u001b[0m     fh \u001b[38;5;241m=\u001b[39m \u001b[43mnp\u001b[49m\u001b[38;5;241;43m.\u001b[39;49m\u001b[43mlib\u001b[49m\u001b[38;5;241;43m.\u001b[39;49m\u001b[43m_datasource\u001b[49m\u001b[38;5;241;43m.\u001b[39;49m\u001b[43mopen\u001b[49m\u001b[43m(\u001b[49m\u001b[43mfname\u001b[49m\u001b[43m,\u001b[49m\u001b[43m \u001b[49m\u001b[38;5;124;43m'\u001b[39;49m\u001b[38;5;124;43mrt\u001b[39;49m\u001b[38;5;124;43m'\u001b[39;49m\u001b[43m,\u001b[49m\u001b[43m \u001b[49m\u001b[43mencoding\u001b[49m\u001b[38;5;241;43m=\u001b[39;49m\u001b[43mencoding\u001b[49m\u001b[43m)\u001b[49m\n\u001b[1;32m   1068\u001b[0m     fencoding \u001b[38;5;241m=\u001b[39m \u001b[38;5;28mgetattr\u001b[39m(fh, \u001b[38;5;124m'\u001b[39m\u001b[38;5;124mencoding\u001b[39m\u001b[38;5;124m'\u001b[39m, \u001b[38;5;124m'\u001b[39m\u001b[38;5;124mlatin1\u001b[39m\u001b[38;5;124m'\u001b[39m)\n\u001b[1;32m   1069\u001b[0m     fh \u001b[38;5;241m=\u001b[39m \u001b[38;5;28miter\u001b[39m(fh)\n",
      "File \u001b[0;32m~/.local/lib/python3.10/site-packages/numpy/lib/_datasource.py:193\u001b[0m, in \u001b[0;36mopen\u001b[0;34m(path, mode, destpath, encoding, newline)\u001b[0m\n\u001b[1;32m    156\u001b[0m \u001b[38;5;124;03m\"\"\"\u001b[39;00m\n\u001b[1;32m    157\u001b[0m \u001b[38;5;124;03mOpen `path` with `mode` and return the file object.\u001b[39;00m\n\u001b[1;32m    158\u001b[0m \n\u001b[0;32m   (...)\u001b[0m\n\u001b[1;32m    189\u001b[0m \n\u001b[1;32m    190\u001b[0m \u001b[38;5;124;03m\"\"\"\u001b[39;00m\n\u001b[1;32m    192\u001b[0m ds \u001b[38;5;241m=\u001b[39m DataSource(destpath)\n\u001b[0;32m--> 193\u001b[0m \u001b[38;5;28;01mreturn\u001b[39;00m \u001b[43mds\u001b[49m\u001b[38;5;241;43m.\u001b[39;49m\u001b[43mopen\u001b[49m\u001b[43m(\u001b[49m\u001b[43mpath\u001b[49m\u001b[43m,\u001b[49m\u001b[43m \u001b[49m\u001b[43mmode\u001b[49m\u001b[43m,\u001b[49m\u001b[43m \u001b[49m\u001b[43mencoding\u001b[49m\u001b[38;5;241;43m=\u001b[39;49m\u001b[43mencoding\u001b[49m\u001b[43m,\u001b[49m\u001b[43m \u001b[49m\u001b[43mnewline\u001b[49m\u001b[38;5;241;43m=\u001b[39;49m\u001b[43mnewline\u001b[49m\u001b[43m)\u001b[49m\n",
      "File \u001b[0;32m~/.local/lib/python3.10/site-packages/numpy/lib/_datasource.py:533\u001b[0m, in \u001b[0;36mDataSource.open\u001b[0;34m(self, path, mode, encoding, newline)\u001b[0m\n\u001b[1;32m    530\u001b[0m     \u001b[38;5;28;01mreturn\u001b[39;00m _file_openers[ext](found, mode\u001b[38;5;241m=\u001b[39mmode,\n\u001b[1;32m    531\u001b[0m                               encoding\u001b[38;5;241m=\u001b[39mencoding, newline\u001b[38;5;241m=\u001b[39mnewline)\n\u001b[1;32m    532\u001b[0m \u001b[38;5;28;01melse\u001b[39;00m:\n\u001b[0;32m--> 533\u001b[0m     \u001b[38;5;28;01mraise\u001b[39;00m \u001b[38;5;167;01mIOError\u001b[39;00m(\u001b[38;5;124m\"\u001b[39m\u001b[38;5;132;01m%s\u001b[39;00m\u001b[38;5;124m not found.\u001b[39m\u001b[38;5;124m\"\u001b[39m \u001b[38;5;241m%\u001b[39m path)\n",
      "\u001b[0;31mOSError\u001b[0m: ../../../Desktop/XDATCAR-AH/Ag3SI/600K/msd_0.dat not found."
     ]
    },
    {
     "data": {
      "image/png": "[encoded data removed]",
      "text/plain": [
       "<Figure size 1000x1000 with 4 Axes>"
      ]
     },
     "metadata": {},
     "output_type": "display_data"
    }
   ],
   "source": [
    "path = '../../../Desktop/XDATCAR-AH/Ag3SI/600K'\n",
    "\n",
    "DBL.get_diffusion_coefficient(path, initial_point=0.1)"
   ]
  },
  {
   "cell_type": "code",
   "execution_count": 8,
   "id": "b88a711f",
   "metadata": {},
   "outputs": [
    {
     "name": "stdout",
     "output_type": "stream",
     "text": [
      "['Li'] ['Sb', 'N']\n"
     ]
    },
    {
     "data": {
      "text/plain": [
       "[(20.304560604632503,\n",
       "  49.74242134299463,\n",
       "  89.19916816250957,\n",
       "  0.08336514328947207,\n",
       "  -56.225721497687076,\n",
       "  0.14542488966019665),\n",
       " (20.19584033361668,\n",
       "  45.29069442775287,\n",
       "  88.68291019766176,\n",
       "  0.08386034372441453,\n",
       "  -63.966663227922815,\n",
       "  0.15264957342558458),\n",
       " (21.888571165301183,\n",
       "  64.5913672051966,\n",
       "  90.92078933091346,\n",
       "  0.08171374493932546,\n",
       "  -30.41116743054688,\n",
       "  0.12133195676146036)]"
      ]
     },
     "execution_count": 8,
     "metadata": {},
     "output_type": "execute_result"
    }
   ],
   "source": [
    "path = '../../UCL/m3gnet'\n",
    "\n",
    "#DBL.get_VACF_VDOS(path)\n",
    "\n",
    "DBL.get_vibrational_properties(path, 1000)"
   ]
  },
  {
   "cell_type": "code",
   "execution_count": 23,
   "id": "a21e5924",
   "metadata": {},
   "outputs": [
    {
     "name": "stdout",
     "output_type": "stream",
     "text": [
      "['Li'] ['N']\n",
      "['Li'] ['N']\n"
     ]
    },
    {
     "data": {
      "text/plain": [
       "(32.94715942451755, 153.24676694337646)"
      ]
     },
     "execution_count": 23,
     "metadata": {},
     "output_type": "execute_result"
    }
   ],
   "source": [
    "path = '../../../Desktop/Check Fv/AIMD'\n",
    "T = 360.0000000\n",
    "DBL.get_vibrational_properties(path, T)[0][4] * 1.6 * 6.022 * 3 * 0.01 * 8, DBL.get_vibrational_properties(path, T)[0][5] * 1.6 * 6.022 * 3 * 0.01 * 8*1000\n"
   ]
  },
  {
   "cell_type": "markdown",
   "id": "5f378001",
   "metadata": {},
   "source": [
    "path_to_POSCAR       = f'{element}/AIMD/{stoichiometricity}/{volume}/{temperature}/POSCAR'\n",
    "\n",
    "path_to_General_data = element\n",
    "\n",
    "MPL.generate_general_data(path_to_POSCAR, path_to_General_data)"
   ]
  }
 ],
 "metadata": {
  "kernelspec": {
   "display_name": "Python 3 (ipykernel)",
   "language": "python",
   "name": "python3"
  },
  "language_info": {
   "codemirror_mode": {
    "name": "ipython",
    "version": 3
   },
   "file_extension": ".py",
   "mimetype": "text/x-python",
   "name": "python",
   "nbconvert_exporter": "python",
   "pygments_lexer": "ipython3",
   "version": "3.10.12"
  }
 },
 "nbformat": 4,
 "nbformat_minor": 5
}
