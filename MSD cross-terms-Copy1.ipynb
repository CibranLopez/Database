{
 "cells": [
  {
   "cell_type": "code",
   "execution_count": 1,
   "id": "ea98dd34",
   "metadata": {},
   "outputs": [],
   "source": [
    "import matplotlib.pyplot as plt\n",
    "import seaborn as sns\n",
    "import DB_library as DBL\n",
    "import numpy as np\n",
    "import os\n",
    "\n",
    "sns.set_theme()"
   ]
  },
  {
   "cell_type": "code",
   "execution_count": 2,
   "id": "6fdf1e57",
   "metadata": {},
   "outputs": [],
   "source": [
    "path_to_XDATCAR = '../../ICMAB/Data/Li-based/Li10GeS2P12/AIMD/stoichiometric/650K'"
   ]
  },
  {
   "cell_type": "code",
   "execution_count": 3,
   "id": "a0770237",
   "metadata": {},
   "outputs": [],
   "source": [
    "atomic_numbers = np.load('atomic_numbers.npy', allow_pickle='TRUE').item()"
   ]
  },
  {
   "cell_type": "markdown",
   "id": "9b9ef061",
   "metadata": {},
   "source": [
    "### Extract data from INCAR file at path_to_XDATCAR"
   ]
  },
  {
   "cell_type": "code",
   "execution_count": 4,
   "id": "f3f5ab55",
   "metadata": {},
   "outputs": [
    {
     "data": {
      "text/plain": [
       "(1.5, 10.0)"
      ]
     },
     "execution_count": 4,
     "metadata": {},
     "output_type": "execute_result"
    }
   ],
   "source": [
    "def read_INCAR(path_to_simulation):\n",
    "    \"\"\"Reads VASP INCAR files. It is always expected to find these parameters.\n",
    "    Read VASP INCAR Settings\n",
    "\n",
    "    Args:\n",
    "        path_to_simulation (str): Path to the simulation directory.\n",
    "\n",
    "    Returns:\n",
    "        tuple: A tuple containing delta_t and n_steps.\n",
    "    \"\"\"\n",
    "    \n",
    "    # Predefining the variable, so later we check if they were found\n",
    "    \n",
    "    delta_t = None\n",
    "    n_steps = None\n",
    "    \n",
    "    # Loading the INCAR file\n",
    "    \n",
    "    if not os.path.exists(f'{path_to_simulation}/INCAR'):\n",
    "        exit('INCAR file is not available.')\n",
    "    \n",
    "    with open(f'{path_to_simulation}/INCAR', 'r') as INCAR_file:\n",
    "        INCAR_lines = INCAR_file.readlines()\n",
    "    \n",
    "    # Looking for delta_t and n_steps\n",
    "    \n",
    "    for line in INCAR_lines:\n",
    "        split_line = line.split('=')\n",
    "        if len(split_line) > 1:  # Skipping empty lines\n",
    "            label = split_line[0].split()[0]\n",
    "            value = split_line[1].split()[0]\n",
    "            \n",
    "            if   label == 'POTIM':  delta_t = float(value)\n",
    "            elif label == 'NBLOCK': n_steps = float(value)\n",
    "    \n",
    "    # Checking if they were found\n",
    "    \n",
    "    if (delta_t is None) or (n_steps is None):\n",
    "        exit('POTIM or NBLOCK are not correctly defined in the INCAR file.')\n",
    "    return delta_t, n_steps\n",
    "\n",
    "INCAR_delta_t, INCAR_n_steps = read_INCAR(path_to_XDATCAR)\n",
    "INCAR_delta_t, INCAR_n_steps"
   ]
  },
  {
   "cell_type": "markdown",
   "id": "53544353",
   "metadata": {},
   "source": [
    "### Extract data from XDATCAR file at path_to_XDATCAR"
   ]
  },
  {
   "cell_type": "code",
   "execution_count": 5,
   "id": "82acf8e0",
   "metadata": {
    "scrolled": true
   },
   "outputs": [
    {
     "name": "stdout",
     "output_type": "stream",
     "text": [
      "Compound: Li10GeS2P12\n",
      "Composition: Li Ge P S\n",
      "Concentration: [80  8 16 96]\n",
      "Number of configurations: 9966\n"
     ]
    }
   ],
   "source": [
    "# Import the XDATCAR file\n",
    "XDATCAR_lines = [line for line in open(f'{path_to_XDATCAR}/XDATCAR') if line.strip()]\n",
    "\n",
    "# Extract initial XDATCAR data\n",
    "compound = XDATCAR_lines[0][:-1]\n",
    "scale    = float(XDATCAR_lines[1])\n",
    "\n",
    "lattice_vectors = np.array([line.split() for line in XDATCAR_lines[2:5]], dtype=float)\n",
    "lattice_vectors *= scale  # Use scaling\n",
    "\n",
    "composition   = XDATCAR_lines[5].split()\n",
    "concentration = np.array(XDATCAR_lines[6].split(), dtype=int)\n",
    "\n",
    "n_atoms = np.sum(concentration)  # Number of particles within the simulation box\n",
    "\n",
    "print_name = ' '.join(composition)\n",
    "print(f'Compound: {compound}')\n",
    "print(f'Composition: {print_name}')\n",
    "print(f'Concentration: {concentration}')\n",
    "\n",
    "# Shape the configurations data into the positions attribute\n",
    "direct_coordinates = np.array([line.split() for line in XDATCAR_lines[8:] if not line.split()[0][0].isalpha()], dtype=float)\n",
    "\n",
    "direct_coordinates = direct_coordinates.ravel().reshape((-1, n_atoms, 3))  # (n_conf, n_atoms, 3) tensor\n",
    "n_conf = direct_coordinates.shape[0]  # Number of configurations or simulation steps\n",
    "\n",
    "print(f'Number of configurations: {n_conf}')"
   ]
  },
  {
   "cell_type": "markdown",
   "id": "3dff52c8",
   "metadata": {},
   "source": [
    "### Identify diffusive particles"
   ]
  },
  {
   "cell_type": "code",
   "execution_count": 6,
   "id": "bd50495c",
   "metadata": {},
   "outputs": [
    {
     "data": {
      "text/plain": [
       "array([ 0,  1,  2,  3,  4,  5,  6,  7,  8,  9, 10, 11, 12, 13, 14, 15, 16,\n",
       "       17, 18, 19, 20, 21, 22, 23, 24, 25, 26, 27, 28, 29, 30, 31, 32, 33,\n",
       "       34, 35, 36, 37, 38, 39, 40, 41, 42, 43, 44, 45, 46, 47, 48, 49, 50,\n",
       "       51, 52, 53, 54, 55, 56, 57, 58, 59, 60, 61, 62, 63, 64, 65, 66, 67,\n",
       "       68, 69, 70, 71, 72, 73, 74, 75, 76, 77, 78, 79])"
      ]
     },
     "execution_count": 6,
     "metadata": {},
     "output_type": "execute_result"
    }
   ],
   "source": [
    "diffusive_particle = 'Li'\n",
    "\n",
    "for i in range(n_atoms):\n",
    "    if composition[i] == diffusive_particle:\n",
    "        diffusive_idx = i\n",
    "        break\n",
    "\n",
    "concentration_cumsum = np.insert(np.cumsum(concentration), 0, 0)\n",
    "\n",
    "# Exact indexes of the diffive particles\n",
    "diffusive_indexes = np.arange(concentration_cumsum[diffusive_idx],\n",
    "                              concentration_cumsum[diffusive_idx+1],\n",
    "                             dtype=int)\n",
    "\n",
    "# Index where the diffive particles start\n",
    "diffusive_indexes_start = diffusive_indexes[0]\n",
    "\n",
    "# Number of diffive particles\n",
    "n_diffusive_indexes = len(diffusive_indexes)\n",
    "\n",
    "diffusive_indexes"
   ]
  },
  {
   "cell_type": "markdown",
   "id": "95dfd1e6",
   "metadata": {},
   "source": [
    "### Revert periodic boundary conditions and pass to cartesian coordinates"
   ]
  },
  {
   "cell_type": "code",
   "execution_count": 7,
   "id": "96802dd5",
   "metadata": {},
   "outputs": [],
   "source": [
    "# Get the variation in positions\n",
    "dpos = np.diff(direct_coordinates, axis=0)\n",
    "\n",
    "# Revert periodic boundary condition\n",
    "dpos[dpos > 0.5]  -= 1.0\n",
    "dpos[dpos < -0.5] += 1.0\n",
    "\n",
    "# Pass to cartesian\n",
    "for i in range(n_conf-1):\n",
    "    dpos[i] = np.dot(dpos[i], lattice_vectors)\n",
    "\n",
    "# Copy direct to cartesian and pass first frame (configuration)\n",
    "cartesian_coordinates    = direct_coordinates.copy()\n",
    "cartesian_coordinates[0] = np.dot(cartesian_coordinates[0], lattice_vectors)\n",
    "\n",
    "# Expand dimensions and sum every dpos\n",
    "expanded_dimensions   = np.expand_dims(cartesian_coordinates[0], 0)\n",
    "cartesian_coordinates = np.concatenate([expanded_dimensions, dpos], axis=0)\n",
    "cartesian_coordinates = np.cumsum(cartesian_coordinates, axis=0)"
   ]
  },
  {
   "cell_type": "markdown",
   "id": "1d73479d",
   "metadata": {},
   "source": [
    "### Generate tensor"
   ]
  },
  {
   "cell_type": "code",
   "execution_count": 8,
   "id": "38f7e437",
   "metadata": {},
   "outputs": [
    {
     "name": "stderr",
     "output_type": "stream",
     "text": [
      "\n",
      "KeyboardInterrupt\n",
      "\n"
     ]
    }
   ],
   "source": [
    "differences_tensor_mean = np.zeros((n_conf, n_atoms, 3))\n",
    "differences_tensor_std  = np.zeros((n_conf, n_atoms, 3))\n",
    "\n",
    "# We vectorize in terms of n_atoms (only possibility here)\n",
    "for delta_t in np.arange(1, n_conf):  # delta_t = 0 gives 0 by definition\n",
    "    # Number of windows which are used for screening distances\n",
    "    n_windows = n_conf - delta_t\n",
    "    \n",
    "    # Extract mean and standard deviation\n",
    "    delta_t_distance = np.zeros((n_atoms, n_windows, 3))\n",
    "    for t_0 in range(n_windows):\n",
    "        # Distance between two configurations of a same particle\n",
    "        # td (atom_i, dim_i) = cc (t_0 + delta_t, atom_i, dim_k) - cc (t_0, atom_i, dim_k)\n",
    "        temporal_dist = cartesian_coordinates[t_0 + delta_t] - cartesian_coordinates[t_0]\n",
    "\n",
    "        # Add Euclidean distance\n",
    "        delta_t_distance[:, t_0] = temporal_dist\n",
    "    \n",
    "    # Generate mean over windows (axis=1)\n",
    "    differences_tensor_mean[delta_t] = np.mean(delta_t_distance, axis=1)\n",
    "    \n",
    "    # Generate std over windows (axis=1)\n",
    "    differences_tensor_std[delta_t] = np.std(delta_t_distance, axis=1)"
   ]
  },
  {
   "cell_type": "markdown",
   "id": "083261c3",
   "metadata": {},
   "source": [
    "### Generate MSD"
   ]
  },
  {
   "cell_type": "code",
   "execution_count": null,
   "id": "d494d2c8",
   "metadata": {},
   "outputs": [],
   "source": [
    "# Define the array of time simulation in pico-seconds\n",
    "delta_t_array = np.arange(n_conf) * (INCAR_n_steps * INCAR_delta_t * 1e-3)\n",
    "\n",
    "MSD_self     = np.zeros(n_conf)\n",
    "MSD_distinct = np.zeros(n_conf)\n",
    "\n",
    "n_self     = 0\n",
    "n_distinct = 0\n",
    "\n",
    "for i in np.arange(n_diffusive_indexes):\n",
    "    idx_i = diffusive_indexes_start + i\n",
    "    \n",
    "    # Self product\n",
    "    for dim_k in range(3):\n",
    "        # MSD_self (delta_n_conf) = dtm (delta_n_conf, atom_i, dim_k) * dtm (delta_n_conf, atom_i, dim_k)\n",
    "        MSD_self += (differences_tensor_mean[:, idx_i, dim_k] * differences_tensor_mean[:, idx_i, dim_k])\n",
    "    n_self += 1\n",
    "    \n",
    "    for j in np.arange(i+1, n_diffusive_indexes):\n",
    "        idx_j = diffusive_indexes_start + j\n",
    "        \n",
    "        # Distinct (cross) product\n",
    "        for dim_k in range(3):\n",
    "            # MSD_distinct (delta_n_conf) = dtm (delta_n_conf, atom_i, dim_k) * dtm (delta_n_conf, atom_j, dim_k)\n",
    "            MSD_distinct += (differences_tensor_mean[:, idx_i, dim_k] * differences_tensor_mean[:, idx_j, dim_k])\n",
    "        n_distinct += 1\n",
    "\n",
    "MSD_self     /= n_self\n",
    "MSD_distinct /= n_distinct\n",
    "\n",
    "MSD_self, MSD_distinct"
   ]
  },
  {
   "cell_type": "markdown",
   "id": "22e0d027",
   "metadata": {},
   "source": [
    "### Compute diffusion coefficient"
   ]
  },
  {
   "cell_type": "code",
   "execution_count": null,
   "id": "56943993",
   "metadata": {},
   "outputs": [],
   "source": [
    "initial_point = None\n",
    "\n",
    "x_fit = delta_t_array\n",
    "yerr_fit = None  #yerr_fit = y[initial_point:]\n",
    "\n",
    "if initial_point is None:\n",
    "    initial_point = int(0.1 * n_conf)\n",
    "else:\n",
    "    initial_point = int(initial_point * n_conf)\n",
    "\n",
    "y_fit  = MSD_self\n",
    "_beta_ = DBL.weighted_regression(x_fit[initial_point:],\n",
    "                                 y_fit[initial_point:],\n",
    "                                 DBL.linear_function,\n",
    "                                 yerr=yerr_fit).beta\n",
    "coef_D_self = _beta_[1]\n",
    "\n",
    "y_fit  = MSD_self+MSD_distinct\n",
    "_beta_ = DBL.weighted_regression(x_fit[initial_point:],\n",
    "                                 y_fit[initial_point:],\n",
    "                                 DBL.linear_function,\n",
    "                                 yerr=yerr_fit).beta\n",
    "coef_D_full = _beta_[1]\n",
    "\n",
    "coef_D_self, coef_D_full"
   ]
  },
  {
   "cell_type": "markdown",
   "id": "51d57c60",
   "metadata": {},
   "source": [
    "### Plot MSD"
   ]
  },
  {
   "cell_type": "code",
   "execution_count": null,
   "id": "8e3f286e",
   "metadata": {},
   "outputs": [],
   "source": [
    "plt.plot(delta_t_array,\n",
    "         MSD_self,\n",
    "         label='Self')\n",
    "plt.plot(delta_t_array,\n",
    "         MSD_self+MSD_distinct,\n",
    "         label='Self+distinct')\n",
    "\n",
    "plt.xlabel(r'$\\Delta t$ (ps)')\n",
    "plt.ylabel(r'$MSD$ ($\\mathregular{Å^2}$)')\n",
    "plt.legend(loc='best')\n",
    "plt.show()"
   ]
  }
 ],
 "metadata": {
  "kernelspec": {
   "display_name": "Python 3 (ipykernel)",
   "language": "python",
   "name": "python3"
  },
  "language_info": {
   "codemirror_mode": {
    "name": "ipython",
    "version": 3
   },
   "file_extension": ".py",
   "mimetype": "text/x-python",
   "name": "python",
   "nbconvert_exporter": "python",
   "pygments_lexer": "ipython3",
   "version": "3.11.1"
  }
 },
 "nbformat": 4,
 "nbformat_minor": 5
}
